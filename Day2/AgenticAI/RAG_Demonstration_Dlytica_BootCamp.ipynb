{
  "cells": [
    {
      "cell_type": "markdown",
      "metadata": {
        "id": "view-in-github",
        "colab_type": "text"
      },
      "source": [
        "<a href=\"https://colab.research.google.com/github/ganys88/Coursera/blob/main/Day2/AgenticAI/RAG_Demonstration_Dlytica_BootCamp.ipynb\" target=\"_parent\"><img src=\"https://colab.research.google.com/assets/colab-badge.svg\" alt=\"Open In Colab\"/></a>"
      ]
    },
    {
      "cell_type": "markdown",
      "source": [
        "\n",
        "**Setup**"
      ],
      "metadata": {
        "id": "ErBaSMzlvi7E"
      }
    },
    {
      "cell_type": "code",
      "source": [
        "# !pip install -U sentence-transformers faiss-cpu openai\n"
      ],
      "metadata": {
        "id": "ajp2yPphvqLE"
      },
      "execution_count": 15,
      "outputs": []
    },
    {
      "cell_type": "code",
      "source": [
        "# Attempting to fix ValueError: numpy.dtype size changed by pinning versions\n",
        "# You might need to adjust these versions based on your environment and other library requirements.\n",
        "\n",
        "import os\n",
        "import openai\n",
        "from google.colab import userdata\n",
        "\n",
        "# Set up the OpenRouter API key using Colab secrets\n",
        "os.environ[\"OPENROUTER_API_KEY\"] = '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'\n",
        "openai.api_base = \"https://openrouter.ai/api/v1\"\n",
        "# openai.api_key = os.environ[\"OPENROUTER_API_KEY\"] # This is deprecated in openai>=1.0.0\n"
      ],
      "metadata": {
        "id": "p-Vs2zBiiL-I"
      },
      "execution_count": 9,
      "outputs": []
    },
    {
      "cell_type": "markdown",
      "source": [
        "**Simple LLM Demo**"
      ],
      "metadata": {
        "id": "N8-hr3o-uqis"
      }
    },
    {
      "cell_type": "code",
      "source": [
        "def simple_llm_example(query):\n",
        "\n",
        "    prompt = f\"\"\"\n",
        "    You are a travel suggestor.\n",
        "    The user has asked about: \"{query}\"\n",
        "\n",
        "    Task: Analyze this place and provide the response in the following structured format:\n",
        "    pros :\n",
        "    cons:\n",
        "    \"\"\"\n",
        "\n",
        "    try:\n",
        "        # Initialize the OpenAI client with the OpenRouter API base and key\n",
        "        client = openai.OpenAI(\n",
        "            base_url=openai.api_base,\n",
        "            api_key=os.environ[\"OPENROUTER_API_KEY\"],\n",
        "        )\n",
        "\n",
        "        response = client.chat.completions.create(\n",
        "            model=\"openrouter/auto\",  # Let OpenRouter auto-select\n",
        "            messages=[\n",
        "                {\"role\": \"system\", \"content\": \"You are a helpful travel assistant.\"},\n",
        "                {\"role\": \"user\", \"content\": prompt}\n",
        "            ],\n",
        "            max_tokens=200,  # Increased slightly for richer responses\n",
        "        )\n",
        "        return response.choices[0].message.content.strip()\n",
        "    except Exception as e:\n",
        "        return f\"An error occurred: {e}\"\n",
        "\n",
        "# Example usage:\n",
        "query = \"I am travelling to Nepal\"\n",
        "answer = simple_llm_example(query)\n",
        "print(answer)\n"
      ],
      "metadata": {
        "colab": {
          "base_uri": "https://localhost:8080/"
        },
        "id": "UoTSaYIehr1k",
        "outputId": "5a6f2b6d-b7c8-41ed-d52a-7431af374b92"
      },
      "execution_count": 12,
      "outputs": [
        {
          "output_type": "stream",
          "name": "stdout",
          "text": [
            "An error occurred: Error code: 401 - {'error': {'message': 'User not found.', 'code': 401}}\n"
          ]
        }
      ]
    },
    {
      "cell_type": "markdown",
      "source": [
        "**RAG Context**\n",
        "\n",
        "\n",
        "\n"
      ],
      "metadata": {
        "id": "DMjnvDUsuwIw"
      }
    },
    {
      "cell_type": "code",
      "source": [
        "\n",
        "# Simple RAG \"hello world\" example\n",
        "# This is a very basic example and doesn't include actual retrieval.\n",
        "# In a real RAG application, you would retrieve relevant information\n",
        "# based on the query and include it in the prompt.\n",
        "\n",
        "def simple_rag_example(query):\n",
        "  \"\"\"A very basic RAG-like function (without actual retrieval).\"\"\"\n",
        "  context = [\n",
        "    \"Nepal is a landlocked South Asian country between India and China, famous for the Himalayas including Mount Everest. Kathmandu is the capital, known for heritage sites like Pashupatinath Temple and Boudhanath Stupa. Nepal transitioned to a federal democratic republic in 2008, and its economy relies on agriculture and tourism, recently there was protest so be safe\",\n",
        "\n",
        "    \"India, the world’s largest democracy, gained independence on 15 August 1947 from British colonial rule. With over 1.4 billion people, it is diverse in language, culture, and religion. Its economy is driven by IT services, agriculture, and manufacturing. India is globally known for yoga, Bollywood, the Taj Mahal, and festivals like Diwali and Holi.\",\n",
        "\n",
        "    \"The United States of America (USA) consists of 50 states with Washington, D.C. as its capital. It declared independence on 4 July 1776. The USA is the world’s largest economy, leading in technology, defense, and culture. It is known for Silicon Valley, Hollywood, New York’s financial district, and NASA’s space exploration programs.\",\n",
        "\n",
        "    \"Canada is the second-largest country in the world by land area, with Ottawa as its capital. It became a confederation on 1 July 1867. Canada has a resource-rich economy focused on energy, mining, forestry, and technology. Known for multiculturalism, cities like Toronto, Vancouver, and Montreal showcase its diversity, while its landscapes include mountains, lakes, and forests.\"\n",
        "]\n",
        "\n",
        "  prompt = f\"\"\"Based on the following context only if you don't have data just say, i don't have context, answer in format:\n",
        "   Pros: , \\n and Cons: ,the question in:\\n\\nContext: {context}\\n\\nQuestion: {query}\"\"\"\n",
        "\n",
        "  try:\n",
        "    # Initialize the OpenAI client with the OpenRouter API base and key\n",
        "    client = openai.OpenAI(\n",
        "        base_url=openai.api_base,\n",
        "        api_key=os.environ[\"OPENROUTER_API_KEY\"],\n",
        "    )\n",
        "\n",
        "    response = client.chat.completions.create(\n",
        "        model=\"openrouter/auto\", # Using auto model to let OpenRouter select the best model\n",
        "        messages=[\n",
        "            {\"role\": \"user\", \"content\": prompt}\n",
        "        ],\n",
        "        max_tokens=100 # Add max_tokens parameter to limit the response size\n",
        "    )\n",
        "    return response.choices[0].message.content.strip()\n",
        "  except Exception as e:\n",
        "    return f\"An error occurred: {e}\"\n",
        "\n",
        "# Example usage:\n",
        "query = \"is kathmandu good to travel  ?\"\n",
        "answer = simple_rag_example(query)\n",
        "print(answer)"
      ],
      "metadata": {
        "colab": {
          "base_uri": "https://localhost:8080/"
        },
        "id": "wNhcE88Phrx9",
        "outputId": "ab5ed535-9d79-4726-9af0-62f398146b3b"
      },
      "execution_count": 13,
      "outputs": [
        {
          "output_type": "stream",
          "name": "stdout",
          "text": [
            "An error occurred: Error code: 401 - {'error': {'message': 'User not found.', 'code': 401}}\n"
          ]
        }
      ]
    },
    {
      "cell_type": "markdown",
      "source": [
        "**Adding Embeeding and Vectordb to minimize the token**"
      ],
      "metadata": {
        "id": "OlXu5YcOu6aD"
      }
    },
    {
      "cell_type": "code",
      "source": [
        "# --- deps (colab) ---\n",
        "\n",
        "import os\n",
        "import faiss\n",
        "import numpy as np\n",
        "from sentence_transformers import SentenceTransformer\n",
        "from openai import OpenAI\n",
        "\n",
        "# ----------------------------\n",
        "# 1) Corpus (same as your code)\n",
        "# ----------------------------\n",
        "CORPUS = [\n",
        "    \"Nepal is a landlocked South Asian country, famous for the Himalayas including Mount Everest. Kathmandu is the capital, known for heritage sites like Pashupatinath Temple and Boudhanath Stupa. Nepal transitioned to a federal democratic republic in 2008, and its economy relies on agriculture and tourism, recently there was protest so be safe\",\n",
        "    \"India, the world’s largest democracy, gained independence on 15 August 1947 from British colonial rule. With over 1.4 billion people, it is diverse in language, culture, and religion. Its economy is driven by IT services, agriculture, and manufacturing. India is globally known for yoga, Bollywood, the Taj Mahal, and festivals like Diwali and Holi.\",\n",
        "    \"The United States of America (USA) consists of 50 states with Washington, D.C. as its capital. It declared independence on 4 July 1776. The USA is the world’s largest economy, leading in technology, defense, and culture. It is known for Silicon Valley, Hollywood, New York’s financial district, and NASA’s space exploration programs.\",\n",
        "    \"Canada is the second-largest country in the world by land area, with Ottawa as its capital. It became a confederation on 1 July 1867. Canada has a resource-rich economy focused on energy, mining, forestry, and technology. Known for multiculturalism, cities like Toronto, Vancouver, and Montreal showcase its diversity, while its landscapes include mountains, lakes, and forests.\"\n",
        "]\n",
        "\n",
        "# --------------------------------------\n",
        "# 2) Build SentenceTransformer + FAISS\n",
        "# --------------------------------------\n",
        "_model = SentenceTransformer(\"all-MiniLM-L6-v2\")  # 384-dim, fast\n",
        "_doc_embs = _model.encode(CORPUS, convert_to_numpy=True, normalize_embeddings=True).astype(np.float32)\n",
        "_index = faiss.IndexFlatIP(_doc_embs.shape[1])   # cosine via normalized inner product\n",
        "_index.add(_doc_embs)\n",
        "\n",
        "def _retrieve(query: str, k: int = 2):\n",
        "    q = _model.encode([query], convert_to_numpy=True, normalize_embeddings=True).astype(np.float32)\n",
        "    scores, idxs = _index.search(q, k)\n",
        "    return [(float(scores[0, i]), CORPUS[idxs[0, i]]) for i in range(len(idxs[0]))]\n",
        "\n",
        "# --------------------------------------\n",
        "# 3) OpenRouter client (LLM generation)\n",
        "# --------------------------------------\n",
        "# Make sure OPENROUTER_API_KEY is set in your env.\n",
        "_client = OpenAI(\n",
        "    base_url=\"https://openrouter.ai/api/v1\",\n",
        "    api_key=os.environ[\"OPENROUTER_API_KEY\"],\n",
        "    # These headers help some OpenRouter providers\n",
        "    default_headers={\n",
        "        \"HTTP-Referer\": \"https://localhost\",\n",
        "        \"X-Title\": \"RAG-Demo\",\n",
        "    },\n",
        ")\n",
        "CHAT_MODEL = \"openrouter/auto\"\n",
        "\n",
        "# --------------------------------------\n",
        "# 4) Vector-based RAG function\n",
        "# --------------------------------------\n",
        "def simple_rag_example(query, top_k=1, max_tokens=160):\n",
        "    \"\"\"Vector-based RAG: retrieve top-k with FAISS, then ask the LLM on retrieved context only.\"\"\"\n",
        "    hits = _retrieve(query, k=top_k)\n",
        "    retrieved_context = \"\\n\\n---\\n\\n\".join([doc for _, doc in hits]) if hits else \"\"\n",
        "    print(retrieved_context)\n",
        "    prompt = f\"\"\"Based only on the following context, answer in this exact format:\n",
        "Pros: <comma-separated key positives>\n",
        "Cons: <comma-separated key negatives>\n",
        "\n",
        "If you don't find enough info, say \"i don't have context\".\n",
        "\n",
        "Context:\n",
        "{retrieved_context if retrieved_context else \"(none)\"}\n",
        "\n",
        "Question: {query}\n",
        "\"\"\"\n",
        "\n",
        "    # Call LLM via OpenRouter\n",
        "    try:\n",
        "        resp = _client.chat.completions.create(\n",
        "            model=CHAT_MODEL,\n",
        "            messages=[{\"role\": \"user\", \"content\": prompt}],\n",
        "            max_tokens=max_tokens,\n",
        "        )\n",
        "        return resp.choices[0].message.content.strip()\n",
        "    except Exception as e:\n",
        "        # Fall back to a non-LLM summary if the API fails\n",
        "        if not hits:\n",
        "            return \"i don't have context\"\n",
        "        return f\"Pros: retrieved {len(hits)} similar passages\\nCons: LLM call failed: {e}\"\n",
        "\n",
        "# -------------------------\n",
        "# 5) Example usage\n",
        "# -------------------------\n",
        "if __name__ == \"__main__\":\n",
        "    query = \"Nepal ?\"\n",
        "    answer = simple_rag_example(query)\n",
        "    print(answer)\n"
      ],
      "metadata": {
        "colab": {
          "base_uri": "https://localhost:8080/",
          "height": 395
        },
        "id": "lORR4XyRe9Or",
        "outputId": "666590cf-d5f9-463d-fb9e-c71915370b9d"
      },
      "execution_count": 14,
      "outputs": [
        {
          "output_type": "error",
          "ename": "ModuleNotFoundError",
          "evalue": "No module named 'faiss'",
          "traceback": [
            "\u001b[0;31m---------------------------------------------------------------------------\u001b[0m",
            "\u001b[0;31mModuleNotFoundError\u001b[0m                       Traceback (most recent call last)",
            "\u001b[0;32m/tmp/ipython-input-280179280.py\u001b[0m in \u001b[0;36m<cell line: 0>\u001b[0;34m()\u001b[0m\n\u001b[1;32m      2\u001b[0m \u001b[0;34m\u001b[0m\u001b[0m\n\u001b[1;32m      3\u001b[0m \u001b[0;32mimport\u001b[0m \u001b[0mos\u001b[0m\u001b[0;34m\u001b[0m\u001b[0;34m\u001b[0m\u001b[0m\n\u001b[0;32m----> 4\u001b[0;31m \u001b[0;32mimport\u001b[0m \u001b[0mfaiss\u001b[0m\u001b[0;34m\u001b[0m\u001b[0;34m\u001b[0m\u001b[0m\n\u001b[0m\u001b[1;32m      5\u001b[0m \u001b[0;32mimport\u001b[0m \u001b[0mnumpy\u001b[0m \u001b[0;32mas\u001b[0m \u001b[0mnp\u001b[0m\u001b[0;34m\u001b[0m\u001b[0;34m\u001b[0m\u001b[0m\n\u001b[1;32m      6\u001b[0m \u001b[0;32mfrom\u001b[0m \u001b[0msentence_transformers\u001b[0m \u001b[0;32mimport\u001b[0m \u001b[0mSentenceTransformer\u001b[0m\u001b[0;34m\u001b[0m\u001b[0;34m\u001b[0m\u001b[0m\n",
            "\u001b[0;31mModuleNotFoundError\u001b[0m: No module named 'faiss'",
            "",
            "\u001b[0;31m---------------------------------------------------------------------------\u001b[0;32m\nNOTE: If your import is failing due to a missing package, you can\nmanually install dependencies using either !pip or !apt.\n\nTo view examples of installing some common dependencies, click the\n\"Open Examples\" button below.\n\u001b[0;31m---------------------------------------------------------------------------\u001b[0m\n"
          ],
          "errorDetails": {
            "actions": [
              {
                "action": "open_url",
                "actionText": "Open Examples",
                "url": "/notebooks/snippets/importing_libraries.ipynb"
              }
            ]
          }
        }
      ]
    },
    {
      "cell_type": "markdown",
      "source": [
        "**Playing with Vectors**"
      ],
      "metadata": {
        "id": "QYmTd8KWvG5f"
      }
    },
    {
      "cell_type": "code",
      "source": [
        "# !pip install -U sentence-transformers faiss-cpu\n",
        "\n",
        "from sentence_transformers import SentenceTransformer\n",
        "import numpy as np\n",
        "import faiss\n",
        "\n",
        "# Load a local embedding model (small + fast)\n",
        "model = SentenceTransformer(\"all-MiniLM-L6-v2\")  # 384-dim embeddings\n",
        "\n",
        "texts = [\n",
        "    \"Nepal is a landlocked South Asian country between India and China...\",\n",
        "    \"India, the world’s largest democracy, gained independence on 15 August 1947...\",\n",
        "    \"The United States of America (USA) consists of 50 states...\",\n",
        "    \"Canada is the second-largest country in the world by land area...\"\n",
        "]\n",
        "\n",
        "# Encode\n",
        "embs = model.encode(texts, convert_to_numpy=True, normalize_embeddings=True)\n",
        "\n",
        "# Build FAISS index\n",
        "index = faiss.IndexFlatIP(embs.shape[1])\n",
        "index.add(embs)\n",
        "\n",
        "# Query\n",
        "q_emb = model.encode([\"Is Kathmandu safe for travel?\"], convert_to_numpy=True, normalize_embeddings=True)\n",
        "scores, idxs = index.search(q_emb, k=2)\n",
        "\n",
        "for i in range(len(idxs[0])):\n",
        "    print(f\"Match {i+1}: {texts[idxs[0][i]]} (score={scores[0][i]:.3f})\")\n"
      ],
      "metadata": {
        "id": "sCSFVCRmqq9b",
        "colab": {
          "base_uri": "https://localhost:8080/",
          "height": 395
        },
        "outputId": "7baf3c1b-5e8e-4763-bfd5-80a5ed017760"
      },
      "execution_count": 7,
      "outputs": [
        {
          "output_type": "error",
          "ename": "ModuleNotFoundError",
          "evalue": "No module named 'faiss'",
          "traceback": [
            "\u001b[0;31m---------------------------------------------------------------------------\u001b[0m",
            "\u001b[0;31mModuleNotFoundError\u001b[0m                       Traceback (most recent call last)",
            "\u001b[0;32m/tmp/ipython-input-152828449.py\u001b[0m in \u001b[0;36m<cell line: 0>\u001b[0;34m()\u001b[0m\n\u001b[1;32m      3\u001b[0m \u001b[0;32mfrom\u001b[0m \u001b[0msentence_transformers\u001b[0m \u001b[0;32mimport\u001b[0m \u001b[0mSentenceTransformer\u001b[0m\u001b[0;34m\u001b[0m\u001b[0;34m\u001b[0m\u001b[0m\n\u001b[1;32m      4\u001b[0m \u001b[0;32mimport\u001b[0m \u001b[0mnumpy\u001b[0m \u001b[0;32mas\u001b[0m \u001b[0mnp\u001b[0m\u001b[0;34m\u001b[0m\u001b[0;34m\u001b[0m\u001b[0m\n\u001b[0;32m----> 5\u001b[0;31m \u001b[0;32mimport\u001b[0m \u001b[0mfaiss\u001b[0m\u001b[0;34m\u001b[0m\u001b[0;34m\u001b[0m\u001b[0m\n\u001b[0m\u001b[1;32m      6\u001b[0m \u001b[0;34m\u001b[0m\u001b[0m\n\u001b[1;32m      7\u001b[0m \u001b[0;31m# Load a local embedding model (small + fast)\u001b[0m\u001b[0;34m\u001b[0m\u001b[0;34m\u001b[0m\u001b[0m\n",
            "\u001b[0;31mModuleNotFoundError\u001b[0m: No module named 'faiss'",
            "",
            "\u001b[0;31m---------------------------------------------------------------------------\u001b[0;32m\nNOTE: If your import is failing due to a missing package, you can\nmanually install dependencies using either !pip or !apt.\n\nTo view examples of installing some common dependencies, click the\n\"Open Examples\" button below.\n\u001b[0;31m---------------------------------------------------------------------------\u001b[0m\n"
          ],
          "errorDetails": {
            "actions": [
              {
                "action": "open_url",
                "actionText": "Open Examples",
                "url": "/notebooks/snippets/importing_libraries.ipynb"
              }
            ]
          }
        }
      ]
    },
    {
      "cell_type": "code",
      "source": [],
      "metadata": {
        "id": "DkU75Tkpqx24"
      },
      "execution_count": null,
      "outputs": []
    }
  ],
  "metadata": {
    "colab": {
      "provenance": [],
      "include_colab_link": true
    },
    "kernelspec": {
      "display_name": "Python 3",
      "name": "python3"
    },
    "language_info": {
      "name": "python"
    }
  },
  "nbformat": 4,
  "nbformat_minor": 0
}