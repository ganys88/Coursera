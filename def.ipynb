{
  "nbformat": 4,
  "nbformat_minor": 0,
  "metadata": {
    "colab": {
      "provenance": []
    },
    "kernelspec": {
      "name": "python3",
      "display_name": "Python 3"
    },
    "language_info": {
      "name": "python"
    }
  },
  "cells": [
    {
      "cell_type": "markdown",
      "source": [
        "See and Understand the difference between these two codes below.\n",
        "\n",
        "* which one is more practical?\n",
        "* what does def means?\n",
        "\n",
        "\n",
        "\n"
      ],
      "metadata": {
        "id": "pgFv9nSxbgPf"
      }
    },
    {
      "cell_type": "code",
      "execution_count": 10,
      "metadata": {
        "colab": {
          "base_uri": "https://localhost:8080/"
        },
        "id": "dm5yLKV3aXNO",
        "outputId": "36e328aa-b575-47c8-a071-171095c68b32"
      },
      "outputs": [
        {
          "output_type": "stream",
          "name": "stdout",
          "text": [
            "minor\n"
          ]
        }
      ],
      "source": [
        "age = 20\n",
        "if age >= 21:\n",
        "  print('adult')\n",
        "else:\n",
        "  print('minor')"
      ]
    },
    {
      "cell_type": "code",
      "source": [
        "def is_adult(age):\n",
        "  if age >= 21:\n",
        "    print('adult')\n",
        "  else:\n",
        "    print('minor')"
      ],
      "metadata": {
        "id": "Z0UozDw_am7w"
      },
      "execution_count": 11,
      "outputs": []
    },
    {
      "cell_type": "code",
      "source": [
        "is_adult(21)"
      ],
      "metadata": {
        "colab": {
          "base_uri": "https://localhost:8080/"
        },
        "id": "kpV82SBfa1bb",
        "outputId": "f84be5bd-41cb-48a0-c296-263a551c049e"
      },
      "execution_count": 12,
      "outputs": [
        {
          "output_type": "stream",
          "name": "stdout",
          "text": [
            "adult\n"
          ]
        }
      ]
    },
    {
      "cell_type": "code",
      "source": [
        "is_adult(17)"
      ],
      "metadata": {
        "colab": {
          "base_uri": "https://localhost:8080/"
        },
        "id": "25TtYqTQa5BE",
        "outputId": "a6c45e3d-410b-4300-b641-f3979deac585"
      },
      "execution_count": 13,
      "outputs": [
        {
          "output_type": "stream",
          "name": "stdout",
          "text": [
            "minor\n"
          ]
        }
      ]
    },
    {
      "cell_type": "code",
      "source": [
        "is_adult(12)"
      ],
      "metadata": {
        "colab": {
          "base_uri": "https://localhost:8080/"
        },
        "id": "NE18GfCrbNIZ",
        "outputId": "8ce46885-07c3-44b6-f514-96f53ffbfda4"
      },
      "execution_count": 14,
      "outputs": [
        {
          "output_type": "stream",
          "name": "stdout",
          "text": [
            "minor\n"
          ]
        }
      ]
    },
    {
      "cell_type": "code",
      "source": [
        "is_adult(50)"
      ],
      "metadata": {
        "colab": {
          "base_uri": "https://localhost:8080/"
        },
        "id": "8Tsxncv1bPeA",
        "outputId": "15b8f8cf-ca80-4813-8643-f201430d07a5"
      },
      "execution_count": 15,
      "outputs": [
        {
          "output_type": "stream",
          "name": "stdout",
          "text": [
            "adult\n"
          ]
        }
      ]
    },
    {
      "cell_type": "markdown",
      "source": [
        "Normal Way"
      ],
      "metadata": {
        "id": "OSn6WzULbEnp"
      }
    },
    {
      "cell_type": "code",
      "source": [
        "age = 16\n",
        "if age >= 21:\n",
        "  print('adult')\n",
        "else:\n",
        "  print('minor')"
      ],
      "metadata": {
        "colab": {
          "base_uri": "https://localhost:8080/"
        },
        "id": "eV3JUZ13bGjw",
        "outputId": "39cac8a1-b6ee-4727-9ce7-720b99e5fb91"
      },
      "execution_count": 16,
      "outputs": [
        {
          "output_type": "stream",
          "name": "stdout",
          "text": [
            "minor\n"
          ]
        }
      ]
    },
    {
      "cell_type": "markdown",
      "source": [
        "See and Understand the difference between these two codes above.\n",
        "which one is more practical?\n"
      ],
      "metadata": {
        "id": "la4BwrevbSts"
      }
    },
    {
      "cell_type": "markdown",
      "source": [
        "More def examples"
      ],
      "metadata": {
        "id": "rImZZ2rSMAUz"
      }
    },
    {
      "cell_type": "code",
      "source": [
        "# Basics\n",
        "\n",
        "def add(x,y):\n",
        "  return(x+y)\n",
        "def sub(x,y):\n",
        "  return(x-y)"
      ],
      "metadata": {
        "id": "mBAcKEJwL_3K"
      },
      "execution_count": 17,
      "outputs": []
    },
    {
      "cell_type": "code",
      "source": [
        "add(10,20)"
      ],
      "metadata": {
        "colab": {
          "base_uri": "https://localhost:8080/"
        },
        "id": "fhc7eIEKMKuO",
        "outputId": "292d0ae5-3dc8-4c58-c968-d7db2e8dedde"
      },
      "execution_count": 18,
      "outputs": [
        {
          "output_type": "execute_result",
          "data": {
            "text/plain": [
              "30"
            ]
          },
          "metadata": {},
          "execution_count": 18
        }
      ]
    },
    {
      "cell_type": "code",
      "source": [
        "sub(10,20)"
      ],
      "metadata": {
        "colab": {
          "base_uri": "https://localhost:8080/"
        },
        "id": "oiLvJ8AkMnW5",
        "outputId": "b5199725-af2d-4de4-fd95-85c40bc01bfd"
      },
      "execution_count": 19,
      "outputs": [
        {
          "output_type": "execute_result",
          "data": {
            "text/plain": [
              "-10"
            ]
          },
          "metadata": {},
          "execution_count": 19
        }
      ]
    },
    {
      "cell_type": "code",
      "source": [
        "def total_sales():       # basic function format\n",
        "  return"
      ],
      "metadata": {
        "id": "xpWXMlMaMp6b"
      },
      "execution_count": 20,
      "outputs": []
    },
    {
      "cell_type": "code",
      "source": [
        "# add price and number of tickets\n",
        "\n",
        "def total_sales(n):\n",
        "  return(7.99 * n)"
      ],
      "metadata": {
        "id": "wML0c9qQM0jF"
      },
      "execution_count": 21,
      "outputs": []
    },
    {
      "cell_type": "code",
      "source": [
        "total_sales(59)"
      ],
      "metadata": {
        "colab": {
          "base_uri": "https://localhost:8080/"
        },
        "id": "YNpJXGl4M96p",
        "outputId": "e92578be-e291-4041-b5e0-d8c6814e46fd"
      },
      "execution_count": 22,
      "outputs": [
        {
          "output_type": "execute_result",
          "data": {
            "text/plain": [
              "471.41"
            ]
          },
          "metadata": {},
          "execution_count": 22
        }
      ]
    },
    {
      "cell_type": "code",
      "source": [
        "# add 2 arguments\n",
        "\n",
        "def total_sales(price, num_tickets):\n",
        "  return (price * num_tickets)"
      ],
      "metadata": {
        "id": "siXNqnT_NBXj"
      },
      "execution_count": 23,
      "outputs": []
    },
    {
      "cell_type": "code",
      "source": [
        "# you can call this function anytime anywhere\n",
        "\n",
        "total_sales (14.99, 1235)"
      ],
      "metadata": {
        "colab": {
          "base_uri": "https://localhost:8080/"
        },
        "id": "fy2hE359NMPc",
        "outputId": "a488f91c-a23f-4f44-a15e-0817dd360920"
      },
      "execution_count": 24,
      "outputs": [
        {
          "output_type": "execute_result",
          "data": {
            "text/plain": [
              "18512.65"
            ]
          },
          "metadata": {},
          "execution_count": 24
        }
      ]
    }
  ]
}