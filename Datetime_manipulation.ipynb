{
  "nbformat": 4,
  "nbformat_minor": 0,
  "metadata": {
    "colab": {
      "provenance": []
    },
    "kernelspec": {
      "name": "python3",
      "display_name": "Python 3"
    },
    "language_info": {
      "name": "python"
    }
  },
  "cells": [
    {
      "cell_type": "code",
      "execution_count": 1,
      "metadata": {
        "id": "TqZRFQb8oQHo"
      },
      "outputs": [],
      "source": [
        "import pandas as pd"
      ]
    },
    {
      "cell_type": "code",
      "source": [
        "data = ['2023-01-20','2023-04-27','2023-06-15']"
      ],
      "metadata": {
        "id": "dkVjMUH7oYp0"
      },
      "execution_count": 4,
      "outputs": []
    },
    {
      "cell_type": "code",
      "source": [
        "# give a variable name and create a series data\n",
        "my_series = pd.Series(data)\n",
        "print(my_series)\n",
        "\n",
        "print()\n",
        "print('if you notice dtype is an object here')"
      ],
      "metadata": {
        "colab": {
          "base_uri": "https://localhost:8080/"
        },
        "id": "Ec_I_OfHomW9",
        "outputId": "52cb2bab-c3eb-45fe-9abb-667c21c5934d"
      },
      "execution_count": 8,
      "outputs": [
        {
          "output_type": "stream",
          "name": "stdout",
          "text": [
            "0    2023-01-20\n",
            "1    2023-04-27\n",
            "2    2023-06-15\n",
            "dtype: object\n",
            "\n",
            "if you notice dtype is an object here\n"
          ]
        }
      ]
    },
    {
      "cell_type": "code",
      "source": [
        "# this series contains string data, but it can be converted to datetime64 data using pd.to_datetime() function\n",
        "my_series = pd.to_datetime(my_series)\n",
        "print(my_series)\n",
        "\n",
        "print()\n",
        "print('the dtype is datetime64 here')"
      ],
      "metadata": {
        "colab": {
          "base_uri": "https://localhost:8080/"
        },
        "id": "8UfKoYW1pGBu",
        "outputId": "78a97567-74b0-4326-ab69-9512dac04d0b"
      },
      "execution_count": 10,
      "outputs": [
        {
          "output_type": "stream",
          "name": "stdout",
          "text": [
            "0   2023-01-20\n",
            "1   2023-04-27\n",
            "2   2023-06-15\n",
            "dtype: datetime64[ns]\n",
            "\n",
            "the dtype is datetime64 here\n"
          ]
        }
      ]
    },
    {
      "cell_type": "code",
      "source": [
        "# when a series contains datetime, you can use dt to accesss various properties of the data\n",
        "print(my_series.dt.year)"
      ],
      "metadata": {
        "colab": {
          "base_uri": "https://localhost:8080/"
        },
        "id": "Bm0YOL1tpwg4",
        "outputId": "b0957309-8038-4a9f-b842-92f97cd5e336"
      },
      "execution_count": 11,
      "outputs": [
        {
          "output_type": "stream",
          "name": "stdout",
          "text": [
            "0    2023\n",
            "1    2023\n",
            "2    2023\n",
            "dtype: int32\n"
          ]
        }
      ]
    },
    {
      "cell_type": "code",
      "source": [
        "print(my_series.dt.month)"
      ],
      "metadata": {
        "colab": {
          "base_uri": "https://localhost:8080/"
        },
        "id": "apj4L9Adp_OE",
        "outputId": "6f5948fb-7966-4194-bc45-ac53f02865c8"
      },
      "execution_count": 12,
      "outputs": [
        {
          "output_type": "stream",
          "name": "stdout",
          "text": [
            "0    1\n",
            "1    4\n",
            "2    6\n",
            "dtype: int32\n"
          ]
        }
      ]
    },
    {
      "cell_type": "code",
      "source": [
        "print(my_series.dt.day)"
      ],
      "metadata": {
        "colab": {
          "base_uri": "https://localhost:8080/"
        },
        "id": "2XkHM4C7qDUv",
        "outputId": "733c04c0-e95a-41c3-e52a-017934999f66"
      },
      "execution_count": 13,
      "outputs": [
        {
          "output_type": "stream",
          "name": "stdout",
          "text": [
            "0    20\n",
            "1    27\n",
            "2    15\n",
            "dtype: int32\n"
          ]
        }
      ]
    },
    {
      "cell_type": "code",
      "source": [
        "# sometimes we have to import datetime module from Pythons library as dt.\n",
        "# in most cases importing pandas does the job\n"
      ],
      "metadata": {
        "id": "6Qn7ZWyaqOks"
      },
      "execution_count": 14,
      "outputs": []
    }
  ]
}