{
  "nbformat": 4,
  "nbformat_minor": 0,
  "metadata": {
    "colab": {
      "provenance": []
    },
    "kernelspec": {
      "name": "python3",
      "display_name": "Python 3"
    },
    "language_info": {
      "name": "python"
    }
  },
  "cells": [
    {
      "cell_type": "markdown",
      "source": [
        "Histograms are an essential tool for understanding the characteristics of a dataset. They provide a visual representation of the data’s distribution and enable data professionals to identify patterns, trends, or outliers within the data.\n",
        "\n",
        "types\n",
        "\n",
        "Symmetric - normal/gaussian\n",
        "\n",
        "skewed - right/left\n",
        "\n",
        "bimodal - has two peaks\n",
        "\n",
        "uniform - are almost evenly distributed\n"
      ],
      "metadata": {
        "id": "1fe40Q9opbpm"
      }
    },
    {
      "cell_type": "markdown",
      "source": [
        "how to create histogram\n",
        "x: a sequence of values representing the data you want to plot df['columns']\n",
        "bins: the number of bins you want to sort your data into"
      ],
      "metadata": {
        "id": "MtTYklOwqB-h"
      }
    },
    {
      "cell_type": "code",
      "source": [
        "import matplotlib.pyplot as plt\n",
        "plt.hist(df['seconds'], bins=range(40,101,5))\n",
        "plt.xticks(range(35,101,5))\n",
        "plt.yticks(range(0,61,10))\n",
        "plt.xlabel('seconds')\n",
        "plt.ylabel('count')\n",
        "plt.title('old faithful geyser - time between eruptions')\n",
        "plt.show()"
      ],
      "metadata": {
        "id": "SCcY12E9qaeP"
      },
      "execution_count": null,
      "outputs": []
    },
    {
      "cell_type": "code",
      "source": [
        "import seaborn as sns\n",
        "ax = sns.histplot(df['seconds'], binrange=(40,100), binwidth=5, color='#4285F4', alpha=1)\n",
        "ax.set_xticks(range(35,101,5))\n",
        "ax.set_yticks(range(0,61,10))\n",
        "plt.title('old faithful geyser - time between eruptions')\n",
        "plt.show"
      ],
      "metadata": {
        "id": "P8qGez2csC9A"
      },
      "execution_count": null,
      "outputs": []
    }
  ]
}