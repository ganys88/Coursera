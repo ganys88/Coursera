{
  "nbformat": 4,
  "nbformat_minor": 0,
  "metadata": {
    "colab": {
      "provenance": []
    },
    "kernelspec": {
      "name": "python3",
      "display_name": "Python 3"
    },
    "language_info": {
      "name": "python"
    }
  },
  "cells": [
    {
      "cell_type": "markdown",
      "source": [
        "what is a difference between () and [] in a dataframe?\n",
        "\n",
        "the parenthesis () is used to call functions and methods in a dataframe.\n",
        "when you add () after the method name, you are telling Python to execute that method.\n",
        "In pandas dataframe square brackets [] are used for **indexing**, **selecting** and **filtering** datasets."
      ],
      "metadata": {
        "id": "0Mvm6OOvEmfI"
      }
    }
  ]
}